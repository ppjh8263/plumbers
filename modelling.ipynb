{
 "cells": [
  {
   "cell_type": "code",
   "execution_count": 75,
   "id": "fitting-active",
   "metadata": {},
   "outputs": [],
   "source": [
    "from urllib import request\n",
    "from xml.etree.ElementTree import fromstring\n",
    "import numpy as np\n",
    "import pandas as pd\n",
    "from PIL import Image\n",
    "\n",
    "import util"
   ]
  },
  {
   "cell_type": "code",
   "execution_count": 5,
   "id": "soviet-legend",
   "metadata": {},
   "outputs": [
    {
     "name": "stdout",
     "output_type": "stream",
     "text": [
      "2 Physical GPUs, 2 Logical GPUs\n"
     ]
    }
   ],
   "source": [
    "import os, glob, sys, time\n",
    "import matplotlib.pyplot as plt \n",
    "import random\n",
    "import tensorflow as tf\n",
    "import tensorflow.keras as keras\n",
    "from tensorflow.keras.preprocessing.image import ImageDataGenerator, load_img, img_to_array\n",
    "import matplotlib.pyplot as plt\n",
    "from tensorflow.keras.layers import GlobalAveragePooling2D, Dense\n",
    "from tensorflow.keras.models import Model, load_model\n",
    "\n",
    "gpus = tf.config.experimental.list_physical_devices('GPU')\n",
    "if gpus:\n",
    "    try:\n",
    "    # Currently, memory growth needs to be the same across GPUs\n",
    "        for gpu in gpus:\n",
    "            tf.config.experimental.set_memory_growth(gpu, True)\n",
    "        logical_gpus = tf.config.experimental.list_logical_devices('GPU')\n",
    "        print(len(gpus), \"Physical GPUs,\", len(logical_gpus), \"Logical GPUs\")\n",
    "    except RuntimeError as e:\n",
    "    # Memory growth must be set before GPUs have been initialized\n",
    "        print(e)"
   ]
  },
  {
   "cell_type": "code",
   "execution_count": 29,
   "id": "laden-fisher",
   "metadata": {},
   "outputs": [],
   "source": [
    "imgSize=512\n",
    "from tensorflow.keras.applications.resnet50 import ResNet50, preprocess_input\n",
    "base_model = ResNet50(input_shape=(imgSize,imgSize,3), weights='imagenet', include_top=False)"
   ]
  },
  {
   "cell_type": "code",
   "execution_count": 63,
   "id": "impressive-faculty",
   "metadata": {},
   "outputs": [],
   "source": [
    "initial_learning_rate = 0.001\n",
    "lr_schedule = tf.keras.optimizers.schedules.ExponentialDecay(\n",
    "    initial_learning_rate,\n",
    "    decay_steps=100000,\n",
    "    decay_rate=0.96,\n",
    "    staircase=False\n",
    ") \n",
    "opt=tf.keras.optimizers.Adam(\n",
    "        learning_rate=lr_schedule)\n",
    "\n",
    "loss_name='categorical_crossentropy'"
   ]
  },
  {
   "cell_type": "code",
   "execution_count": 70,
   "id": "returning-passport",
   "metadata": {},
   "outputs": [
    {
     "name": "stdout",
     "output_type": "stream",
     "text": [
      "Found 860 validated image filenames belonging to 244 classes.\n",
      "Found 368 validated image filenames belonging to 244 classes.\n"
     ]
    }
   ],
   "source": [
    "df_data=util.open_pickle(\"./data_for_gen.pickle\")\n",
    "datagen = ImageDataGenerator(\n",
    "    preprocessing_function=preprocess_input,\n",
    "    validation_split=0.3,\n",
    "\n",
    ")\n",
    "\n",
    "tr_gen = datagen.flow_from_dataframe(df_data,\n",
    "                                     x_col = 'image_path',\n",
    "                                     y_col = 'name',\n",
    "                                     target_size = (imgSize,imgSize),\n",
    "                                     class_mode = 'categorical',\n",
    "                                     batch_size = 32,\n",
    "                                     interpolation = 'nearest',\n",
    "                                     subset = 'training',\n",
    "                                     seed = 21)\n",
    "val_gen = datagen.flow_from_dataframe(df_data,\n",
    "                                     x_col = 'image_path',\n",
    "                                     y_col = 'name',\n",
    "                                     target_size = (imgSize,imgSize),\n",
    "                                     class_mode= 'categorical',\n",
    "                                     batch_size= 32,\n",
    "                                     interpolation= 'nearest',\n",
    "                                     subset='validation',\n",
    "                                     seed = 21,)"
   ]
  },
  {
   "cell_type": "code",
   "execution_count": 71,
   "id": "military-raising",
   "metadata": {},
   "outputs": [],
   "source": [
    "output_number=len(tr_gen.class_indices)\n",
    "\n",
    "x = base_model.output\n",
    "x = GlobalAveragePooling2D()(x)\n",
    "output = Dense(output_number, activation='softmax')(x)\n",
    "\n",
    "model = Model(inputs=base_model.input, outputs=output)\n",
    "\n",
    "\n",
    "for layer in model.layers:\n",
    "    layer.trainable = True    \n",
    "    \n",
    "\n",
    "model.compile(optimizer=opt, \n",
    "              loss=loss_name, \n",
    "              metrics=['acc'])"
   ]
  },
  {
   "cell_type": "code",
   "execution_count": 74,
   "id": "passing-attachment",
   "metadata": {
    "scrolled": true
   },
   "outputs": [
    {
     "name": "stdout",
     "output_type": "stream",
     "text": [
      "Epoch 1/50\n",
      "27/27 [==============================] - 197s 8s/step - loss: 5.5658 - acc: 0.0221 - val_loss: 79266.7891 - val_acc: 0.0000e+00\n",
      "Epoch 2/50\n",
      "27/27 [==============================] - 15s 565ms/step - loss: 5.0479 - acc: 0.0291 - val_loss: 3346.1108 - val_acc: 0.0000e+00\n",
      "Epoch 3/50\n",
      "27/27 [==============================] - 15s 564ms/step - loss: 4.7837 - acc: 0.0500 - val_loss: 256.4460 - val_acc: 0.0000e+00\n",
      "Epoch 4/50\n",
      "27/27 [==============================] - 15s 563ms/step - loss: 4.5433 - acc: 0.0593 - val_loss: 115.9324 - val_acc: 0.0000e+00\n",
      "Epoch 5/50\n",
      "27/27 [==============================] - 15s 566ms/step - loss: 4.2961 - acc: 0.0767 - val_loss: 82.0548 - val_acc: 0.0000e+00\n",
      "Epoch 6/50\n",
      "27/27 [==============================] - 16s 570ms/step - loss: 3.8975 - acc: 0.1209 - val_loss: 16.9022 - val_acc: 0.0000e+00\n",
      "Epoch 7/50\n",
      "27/27 [==============================] - 16s 568ms/step - loss: 3.5914 - acc: 0.1721 - val_loss: 270.8408 - val_acc: 0.0000e+00\n",
      "Epoch 8/50\n",
      "27/27 [==============================] - 16s 567ms/step - loss: 3.1859 - acc: 0.2070 - val_loss: 34.9392 - val_acc: 0.0000e+00\n",
      "Epoch 9/50\n",
      "27/27 [==============================] - 15s 567ms/step - loss: 2.7233 - acc: 0.3023 - val_loss: 54.1312 - val_acc: 0.0000e+00\n",
      "Epoch 10/50\n",
      "27/27 [==============================] - 16s 568ms/step - loss: 2.3653 - acc: 0.3860 - val_loss: 33.5648 - val_acc: 0.0000e+00\n",
      "Epoch 11/50\n",
      "27/27 [==============================] - 16s 569ms/step - loss: 1.9710 - acc: 0.4767 - val_loss: 17.4697 - val_acc: 0.0000e+00\n",
      "Epoch 12/50\n",
      "27/27 [==============================] - 16s 567ms/step - loss: 1.5734 - acc: 0.5919 - val_loss: 19.1639 - val_acc: 0.0000e+00\n",
      "Epoch 13/50\n",
      "27/27 [==============================] - 16s 569ms/step - loss: 1.3651 - acc: 0.6477 - val_loss: 21.1295 - val_acc: 0.0000e+00\n",
      "Epoch 14/50\n",
      "27/27 [==============================] - 16s 571ms/step - loss: 0.9888 - acc: 0.7419 - val_loss: 26.3251 - val_acc: 0.0000e+00\n",
      "Epoch 15/50\n",
      "27/27 [==============================] - 15s 566ms/step - loss: 0.8459 - acc: 0.7709 - val_loss: 14.4240 - val_acc: 0.0000e+00\n",
      "Epoch 16/50\n",
      "27/27 [==============================] - 16s 568ms/step - loss: 0.7999 - acc: 0.7860 - val_loss: 19.5400 - val_acc: 0.0000e+00\n",
      "Epoch 17/50\n",
      "27/27 [==============================] - 16s 568ms/step - loss: 0.6310 - acc: 0.8314 - val_loss: 21.5176 - val_acc: 0.0000e+00\n",
      "Epoch 18/50\n",
      "27/27 [==============================] - 16s 570ms/step - loss: 0.4889 - acc: 0.8686 - val_loss: 17.3504 - val_acc: 0.0000e+00\n",
      "Epoch 19/50\n",
      "27/27 [==============================] - 16s 571ms/step - loss: 0.4595 - acc: 0.8802 - val_loss: 16.4686 - val_acc: 0.0000e+00\n",
      "Epoch 20/50\n",
      "27/27 [==============================] - 15s 567ms/step - loss: 0.3523 - acc: 0.9116 - val_loss: 22.4249 - val_acc: 0.0000e+00\n",
      "Epoch 21/50\n",
      "27/27 [==============================] - 16s 568ms/step - loss: 0.3396 - acc: 0.9035 - val_loss: 17.1997 - val_acc: 0.0000e+00\n",
      "Epoch 22/50\n",
      "27/27 [==============================] - 16s 570ms/step - loss: 0.3016 - acc: 0.9186 - val_loss: 17.5071 - val_acc: 0.0027\n",
      "Epoch 23/50\n",
      "27/27 [==============================] - 16s 571ms/step - loss: 0.2149 - acc: 0.9419 - val_loss: 18.6988 - val_acc: 0.0027\n",
      "Epoch 24/50\n",
      "27/27 [==============================] - 16s 570ms/step - loss: 0.2040 - acc: 0.9407 - val_loss: 20.9476 - val_acc: 0.0000e+00\n",
      "Epoch 25/50\n",
      "27/27 [==============================] - 15s 566ms/step - loss: 0.1475 - acc: 0.9686 - val_loss: 16.8336 - val_acc: 0.0000e+00\n",
      "Epoch 26/50\n",
      "27/27 [==============================] - 16s 571ms/step - loss: 0.1068 - acc: 0.9721 - val_loss: 19.5676 - val_acc: 0.0027\n",
      "Epoch 27/50\n",
      "27/27 [==============================] - 16s 568ms/step - loss: 0.1276 - acc: 0.9663 - val_loss: 18.7317 - val_acc: 0.0000e+00\n",
      "Epoch 28/50\n",
      "27/27 [==============================] - 16s 569ms/step - loss: 0.1231 - acc: 0.9674 - val_loss: 18.6170 - val_acc: 0.0027\n",
      "Epoch 29/50\n",
      "27/27 [==============================] - 16s 572ms/step - loss: 0.1718 - acc: 0.9523 - val_loss: 24.0879 - val_acc: 0.0000e+00\n",
      "Epoch 30/50\n",
      "27/27 [==============================] - 16s 568ms/step - loss: 0.2333 - acc: 0.9372 - val_loss: 26.0311 - val_acc: 0.0027\n",
      "Epoch 31/50\n",
      "27/27 [==============================] - 16s 569ms/step - loss: 0.2340 - acc: 0.9256 - val_loss: 19.2649 - val_acc: 0.0027\n",
      "Epoch 32/50\n",
      "27/27 [==============================] - 15s 565ms/step - loss: 0.1773 - acc: 0.9488 - val_loss: 23.3985 - val_acc: 0.0000e+00\n",
      "Epoch 33/50\n",
      "27/27 [==============================] - 16s 569ms/step - loss: 0.1418 - acc: 0.9674 - val_loss: 16.9428 - val_acc: 0.0000e+00\n",
      "Epoch 34/50\n",
      "27/27 [==============================] - 16s 569ms/step - loss: 0.1142 - acc: 0.9733 - val_loss: 16.9987 - val_acc: 0.0000e+00\n",
      "Epoch 35/50\n",
      "27/27 [==============================] - 15s 565ms/step - loss: 0.1157 - acc: 0.9709 - val_loss: 21.4193 - val_acc: 0.0000e+00\n",
      "Epoch 36/50\n",
      "27/27 [==============================] - 16s 570ms/step - loss: 0.0957 - acc: 0.9744 - val_loss: 19.5500 - val_acc: 0.0000e+00\n",
      "Epoch 37/50\n",
      "27/27 [==============================] - 16s 568ms/step - loss: 0.0745 - acc: 0.9826 - val_loss: 20.3724 - val_acc: 0.0000e+00\n",
      "Epoch 38/50\n",
      "27/27 [==============================] - 16s 570ms/step - loss: 0.0446 - acc: 0.9860 - val_loss: 18.9637 - val_acc: 0.0000e+00\n",
      "Epoch 39/50\n",
      "27/27 [==============================] - 16s 570ms/step - loss: 0.0279 - acc: 0.9895 - val_loss: 17.1458 - val_acc: 0.0027\n",
      "Epoch 40/50\n",
      "27/27 [==============================] - 16s 568ms/step - loss: 0.0217 - acc: 0.9919 - val_loss: 17.5629 - val_acc: 0.0027\n",
      "Epoch 41/50\n",
      "27/27 [==============================] - 16s 568ms/step - loss: 0.0203 - acc: 0.9930 - val_loss: 17.4144 - val_acc: 0.0027\n",
      "Epoch 42/50\n",
      "27/27 [==============================] - 16s 567ms/step - loss: 0.0165 - acc: 0.9895 - val_loss: 17.5745 - val_acc: 0.0027\n",
      "Epoch 43/50\n",
      "27/27 [==============================] - 16s 571ms/step - loss: 0.0182 - acc: 0.9895 - val_loss: 18.0469 - val_acc: 0.0027\n",
      "Epoch 44/50\n",
      "27/27 [==============================] - 16s 568ms/step - loss: 0.0136 - acc: 0.9919 - val_loss: 17.9724 - val_acc: 0.0027\n",
      "Epoch 45/50\n",
      "27/27 [==============================] - 16s 567ms/step - loss: 0.0168 - acc: 0.9919 - val_loss: 18.1808 - val_acc: 0.0027\n",
      "Epoch 46/50\n",
      "27/27 [==============================] - 16s 567ms/step - loss: 0.0134 - acc: 0.9942 - val_loss: 18.5151 - val_acc: 0.0027\n",
      "Epoch 47/50\n",
      "27/27 [==============================] - 16s 567ms/step - loss: 0.0175 - acc: 0.9907 - val_loss: 18.4782 - val_acc: 0.0000e+00\n",
      "Epoch 48/50\n",
      "27/27 [==============================] - 16s 570ms/step - loss: 0.0180 - acc: 0.9907 - val_loss: 18.2016 - val_acc: 0.0027\n",
      "Epoch 49/50\n",
      "27/27 [==============================] - 16s 569ms/step - loss: 0.0188 - acc: 0.9919 - val_loss: 18.1464 - val_acc: 0.0027\n",
      "Epoch 50/50\n",
      "27/27 [==============================] - 16s 568ms/step - loss: 0.0189 - acc: 0.9907 - val_loss: 18.5299 - val_acc: 0.0027\n"
     ]
    },
    {
     "data": {
      "text/plain": [
       "960.073234796524"
      ]
     },
     "execution_count": 74,
     "metadata": {},
     "output_type": "execute_result"
    }
   ],
   "source": [
    "gpuNum= '/device:GPU:' + '0'\n",
    "\n",
    "\n",
    "start = time.time()  \n",
    "\n",
    "model_epoch=50\n",
    "with tf.device(gpuNum): \n",
    "    history = model.fit(tr_gen,\n",
    "                        epochs=model_epoch,\n",
    "                        validation_data=val_gen)\n",
    "    \n",
    "trainnig_time=time.time() - start\n",
    "print(trainnig_time)"
   ]
  },
  {
   "cell_type": "code",
   "execution_count": 79,
   "id": "offshore-tanzania",
   "metadata": {},
   "outputs": [],
   "source": [
    "result_file_name=\"first_model_resnet\"\n",
    "model_name=result_file_name+'.json'\n",
    "model_weight=result_file_name+'.h5'\n",
    "model_history_name=result_file_name+'.pickle'\n",
    "\n",
    "util.model_save(model,history,model_name,model_weight,model_history_name)"
   ]
  }
 ],
 "metadata": {
  "kernelspec": {
   "display_name": "Python 3",
   "language": "python",
   "name": "python3"
  },
  "language_info": {
   "codemirror_mode": {
    "name": "ipython",
    "version": 3
   },
   "file_extension": ".py",
   "mimetype": "text/x-python",
   "name": "python",
   "nbconvert_exporter": "python",
   "pygments_lexer": "ipython3",
   "version": "3.6.9"
  }
 },
 "nbformat": 4,
 "nbformat_minor": 5
}
